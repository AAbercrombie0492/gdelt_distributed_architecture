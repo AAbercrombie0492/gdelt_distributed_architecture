{
 "cells": [
  {
   "cell_type": "markdown",
   "metadata": {},
   "source": [
    "# Google Earth Engine's Python API"
   ]
  },
  {
   "cell_type": "markdown",
   "metadata": {},
   "source": [
    "We will collect satellite imagery from the Landsat 8 collection via Google Earth Engine. Landsat 8 satellite images the entire earth every 16 days in an 8-day offset from Landsat 7. Images come in a GeoTIFF format, which is a tiff file with geospatial meta-data. The collection extends back to April 2013 and images are collected in 15-minute intervals. Daily imagery is then made available on Google Earth within 24 hours.\n",
    "\n",
    "Landsat imagery is composed of 11 spectral bands that capture light reflectnace from the surface of the planet. Each band captures a range of wavelengths from the electro-magnetic spectrum.\n",
    "\n",
    "!['landsat8_bands'](images/landsat8_bands.png)\n",
    "\n",
    "!['lanssat8_tech'](images/landsat8_tech.png)\n"
   ]
  },
  {
   "cell_type": "code",
   "execution_count": 15,
   "metadata": {
    "collapsed": true
   },
   "outputs": [],
   "source": [
    "# Import the Google Earth Engine Python Package\n",
    "import ee\n",
    "\n",
    "# Initialize the Earth Engine object, using the authentication credentials.\n",
    "ee.Initialize()\n",
    "\n",
    "# Get the landsat 8 imagery collection\n",
    "l8 = ee.ImageCollection('LANDSAT/LC8_L1T_TOA')\n",
    "\n",
    "# Get imagery that intersects with point of interest -- San Francisco\n",
    "point_of_interest = ee.Geometry.Point([-122.4371337890625, 37.724225332072436]);\n",
    "spatialFiltered = l8.filterBounds(point_of_interest);"
   ]
  },
  {
   "cell_type": "code",
   "execution_count": 128,
   "metadata": {
    "collapsed": false
   },
   "outputs": [
    {
     "data": {
      "text/plain": [
       "['B1', 'B2', 'B3', 'B4', 'B5', 'B6', 'B7', 'B8', 'B9', 'B10', 'B11', 'BQA']"
      ]
     },
     "execution_count": 128,
     "metadata": {},
     "output_type": "execute_result"
    }
   ],
   "source": [
    "# Filter colletion by date: 2010 to present\n",
    "import datetime\n",
    "now = datetime.datetime.now()\n",
    "d = now.day\n",
    "y = now.year\n",
    "m = now.month\n",
    "\n",
    "# l8_temporalFiltered = spatialFiltered.filterDate('{}-0{}-{}'.format(y,m-1,d-2), '{}-0{}-{}'.format(y,m-1,d))\n",
    "\n",
    "l8_temporalFiltered = spatialFiltered.filterDate('2017-01-01', '2017-02-18')\n",
    "\n",
    "# This will sort from least to most cloudy.\n",
    "sorted_collection_clouds = l8_temporalFiltered.sort('CLOUD_COVER')\n",
    "\n",
    "# Get the first (least cloudy) image.\n",
    "scene = ee.Image(l8_temporalFiltered.first())\n",
    "\n",
    "# Band Names\n",
    "scene.bandNames().getInfo()"
   ]
  },
  {
   "cell_type": "markdown",
   "metadata": {},
   "source": [
    "### Mix and match band combinations as RGB to visualize different features in the imagery\n",
    "!['landsat8_band_combos'](images/landsat8_band_combos.png)"
   ]
  },
  {
   "cell_type": "code",
   "execution_count": 150,
   "metadata": {
    "collapsed": true
   },
   "outputs": [],
   "source": [
    "# Parameters to visualize vegetation\n",
    "vegetationParams = {'bands': 'B5,B4,B3', 'min':0, 'max': 0.3}\n",
    "naturalColorParams = {'bands': 'B4,B3,B2', 'min':0, 'max': 0.3}\n",
    "agricultureParams = {'bands': 'B6,B5,B2', 'min':0, 'max': 0.3}\n",
    "landwaterParams = {'bands': 'B5,B6,B4', 'min':0, 'max': 0.3}\n",
    "urbanParams = {'bands': 'B7,B6,B4', 'min':0, 'max': 0.3}\n",
    "atmosphericParams = {'bands': 'B7,B5,B4', 'min':0, 'max': 0.3}"
   ]
  },
  {
   "cell_type": "code",
   "execution_count": 148,
   "metadata": {
    "collapsed": false
   },
   "outputs": [
    {
     "name": "stdout",
     "output_type": "stream",
     "text": [
      "Natural Color\n"
     ]
    },
    {
     "data": {
      "text/html": [
       "<img src=\"https://earthengine.googleapis.com/api/thumb?thumbid=0ae4629b550ac01b9484d312c71978d4&token=fd759feb9ed1eefa40226f93c60983f1\"/>"
      ],
      "text/plain": [
       "<IPython.core.display.Image object>"
      ]
     },
     "execution_count": 148,
     "metadata": {},
     "output_type": "execute_result"
    }
   ],
   "source": [
    "# Display image \n",
    "from IPython.display import Image\n",
    "\n",
    "print(\"Natural Color\")\n",
    "Image(url=scene.getThumbUrl(naturalColorParams))"
   ]
  },
  {
   "cell_type": "code",
   "execution_count": 137,
   "metadata": {
    "collapsed": false
   },
   "outputs": [
    {
     "name": "stdout",
     "output_type": "stream",
     "text": [
      "Land/Water\n"
     ]
    },
    {
     "data": {
      "text/html": [
       "<img src=\"https://earthengine.googleapis.com/api/thumb?thumbid=d9f018c6b7f0ce4b5b2533fc18f8088c&token=fa20152034f5a5b13a783fcda48f668e\"/>"
      ],
      "text/plain": [
       "<IPython.core.display.Image object>"
      ]
     },
     "execution_count": 137,
     "metadata": {},
     "output_type": "execute_result"
    }
   ],
   "source": [
    "print(\"Land/Water\")\n",
    "Image(url=scene.getThumbUrl(landwaterParams))"
   ]
  },
  {
   "cell_type": "code",
   "execution_count": 139,
   "metadata": {
    "collapsed": false
   },
   "outputs": [
    {
     "name": "stdout",
     "output_type": "stream",
     "text": [
      "Urban\n"
     ]
    },
    {
     "data": {
      "text/html": [
       "<img src=\"https://earthengine.googleapis.com/api/thumb?thumbid=6bacc78f6a2aa284c44c3b2f45fa16fd&token=a644f2adcaa73a58c9760bca3bb57766\"/>"
      ],
      "text/plain": [
       "<IPython.core.display.Image object>"
      ]
     },
     "execution_count": 139,
     "metadata": {},
     "output_type": "execute_result"
    }
   ],
   "source": [
    "print(\"Urban\")\n",
    "Image(url=scene.getThumbUrl(urbanParams))"
   ]
  },
  {
   "cell_type": "code",
   "execution_count": 130,
   "metadata": {
    "collapsed": false
   },
   "outputs": [
    {
     "name": "stdout",
     "output_type": "stream",
     "text": [
      "Vegetation\n"
     ]
    },
    {
     "data": {
      "text/html": [
       "<img src=\"https://earthengine.googleapis.com/api/thumb?thumbid=a3fa9be3e1973274debfca54f6eea504&token=0e1f2b3ad1c6d5d84a1e92d7c7b19dfe\"/>"
      ],
      "text/plain": [
       "<IPython.core.display.Image object>"
      ]
     },
     "execution_count": 130,
     "metadata": {},
     "output_type": "execute_result"
    }
   ],
   "source": [
    "print(\"Vegetation\")\n",
    "Image(url=scene.getThumbUrl(vegetationParams))"
   ]
  },
  {
   "cell_type": "code",
   "execution_count": 133,
   "metadata": {
    "collapsed": false
   },
   "outputs": [
    {
     "name": "stdout",
     "output_type": "stream",
     "text": [
      "Agriculture\n"
     ]
    },
    {
     "data": {
      "text/html": [
       "<img src=\"https://earthengine.googleapis.com/api/thumb?thumbid=873c74ad6992610be1799fc6df1a2d65&token=0de07cc059cefdb1fd21ac3036ef9328\"/>"
      ],
      "text/plain": [
       "<IPython.core.display.Image object>"
      ]
     },
     "execution_count": 133,
     "metadata": {},
     "output_type": "execute_result"
    }
   ],
   "source": [
    "print(\"Agriculture\")\n",
    "Image(url=scene.getThumbUrl(agricultureParams))"
   ]
  },
  {
   "cell_type": "markdown",
   "metadata": {},
   "source": [
    "!['landsat8_groundswaths'](images/ground_swaths.png)"
   ]
  },
  {
   "cell_type": "code",
   "execution_count": 43,
   "metadata": {
    "collapsed": false
   },
   "outputs": [
    {
     "data": {
      "text/plain": [
       "{'bands': [{'crs': 'EPSG:32610',\n",
       "   'crs_transform': [30.0, 0.0, 464985.0, 0.0, -30.0, 4258215.0],\n",
       "   'data_type': {'precision': 'float', 'type': 'PixelType'},\n",
       "   'dimensions': [7571, 7381],\n",
       "   'id': 'B1'},\n",
       "  {'crs': 'EPSG:32610',\n",
       "   'crs_transform': [30.0, 0.0, 464985.0, 0.0, -30.0, 4258215.0],\n",
       "   'data_type': {'precision': 'float', 'type': 'PixelType'},\n",
       "   'dimensions': [7571, 7381],\n",
       "   'id': 'B2'},\n",
       "  {'crs': 'EPSG:32610',\n",
       "   'crs_transform': [30.0, 0.0, 464985.0, 0.0, -30.0, 4258215.0],\n",
       "   'data_type': {'precision': 'float', 'type': 'PixelType'},\n",
       "   'dimensions': [7571, 7381],\n",
       "   'id': 'B3'},\n",
       "  {'crs': 'EPSG:32610',\n",
       "   'crs_transform': [30.0, 0.0, 464985.0, 0.0, -30.0, 4258215.0],\n",
       "   'data_type': {'precision': 'float', 'type': 'PixelType'},\n",
       "   'dimensions': [7571, 7381],\n",
       "   'id': 'B4'},\n",
       "  {'crs': 'EPSG:32610',\n",
       "   'crs_transform': [30.0, 0.0, 464985.0, 0.0, -30.0, 4258215.0],\n",
       "   'data_type': {'precision': 'float', 'type': 'PixelType'},\n",
       "   'dimensions': [7571, 7381],\n",
       "   'id': 'B5'},\n",
       "  {'crs': 'EPSG:32610',\n",
       "   'crs_transform': [30.0, 0.0, 464985.0, 0.0, -30.0, 4258215.0],\n",
       "   'data_type': {'precision': 'float', 'type': 'PixelType'},\n",
       "   'dimensions': [7571, 7381],\n",
       "   'id': 'B6'},\n",
       "  {'crs': 'EPSG:32610',\n",
       "   'crs_transform': [30.0, 0.0, 464985.0, 0.0, -30.0, 4258215.0],\n",
       "   'data_type': {'precision': 'float', 'type': 'PixelType'},\n",
       "   'dimensions': [7571, 7381],\n",
       "   'id': 'B7'},\n",
       "  {'crs': 'EPSG:32610',\n",
       "   'crs_transform': [15.0, 0.0, 464992.5, 0.0, -15.0, 4258207.5],\n",
       "   'data_type': {'precision': 'float', 'type': 'PixelType'},\n",
       "   'dimensions': [15141, 14761],\n",
       "   'id': 'B8'},\n",
       "  {'crs': 'EPSG:32610',\n",
       "   'crs_transform': [30.0, 0.0, 464985.0, 0.0, -30.0, 4258215.0],\n",
       "   'data_type': {'precision': 'float', 'type': 'PixelType'},\n",
       "   'dimensions': [7571, 7381],\n",
       "   'id': 'B9'},\n",
       "  {'crs': 'EPSG:32610',\n",
       "   'crs_transform': [30.0, 0.0, 464985.0, 0.0, -30.0, 4258215.0],\n",
       "   'data_type': {'precision': 'float', 'type': 'PixelType'},\n",
       "   'dimensions': [7571, 7381],\n",
       "   'id': 'B10'},\n",
       "  {'crs': 'EPSG:32610',\n",
       "   'crs_transform': [30.0, 0.0, 464985.0, 0.0, -30.0, 4258215.0],\n",
       "   'data_type': {'precision': 'float', 'type': 'PixelType'},\n",
       "   'dimensions': [7571, 7381],\n",
       "   'id': 'B11'},\n",
       "  {'crs': 'EPSG:32610',\n",
       "   'crs_transform': [30.0, 0.0, 464985.0, 0.0, -30.0, 4258215.0],\n",
       "   'data_type': {'max': 65535,\n",
       "    'min': 0,\n",
       "    'precision': 'int',\n",
       "    'type': 'PixelType'},\n",
       "   'dimensions': [7571, 7381],\n",
       "   'id': 'BQA'}],\n",
       " 'id': 'LANDSAT/LC8_L1T_TOA/LC80440342013106LGN01',\n",
       " 'properties': {'BPF_NAME_OLI': 'LO8BPF20130416183813_20130416184936.01',\n",
       "  'BPF_NAME_TIRS': 'LT8BPF20130416183419_20130416185028.01',\n",
       "  'CLOUD_COVER': 0.35,\n",
       "  'CORNER_LL_LAT_PRODUCT': 36.47585,\n",
       "  'CORNER_LL_LON_PRODUCT': -123.3907,\n",
       "  'CORNER_LL_PROJECTION_X_PRODUCT': 465000.0,\n",
       "  'CORNER_LL_PROJECTION_Y_PRODUCT': 4036800.0,\n",
       "  'CORNER_LR_LAT_PRODUCT': 36.45723,\n",
       "  'CORNER_LR_LON_PRODUCT': -120.85628,\n",
       "  'CORNER_LR_PROJECTION_X_PRODUCT': 692100.0,\n",
       "  'CORNER_LR_PROJECTION_Y_PRODUCT': 4036800.0,\n",
       "  'CORNER_UL_LAT_PRODUCT': 38.47143,\n",
       "  'CORNER_UL_LON_PRODUCT': -123.40123,\n",
       "  'CORNER_UL_PROJECTION_X_PRODUCT': 465000.0,\n",
       "  'CORNER_UL_PROJECTION_Y_PRODUCT': 4258200.0,\n",
       "  'CORNER_UR_LAT_PRODUCT': 38.45143,\n",
       "  'CORNER_UR_LON_PRODUCT': -120.79857,\n",
       "  'CORNER_UR_PROJECTION_X_PRODUCT': 692100.0,\n",
       "  'CORNER_UR_PROJECTION_Y_PRODUCT': 4258200.0,\n",
       "  'CPF_NAME': 'L8CPF20130401_20130627.08',\n",
       "  'DATA_TYPE': 'L1T',\n",
       "  'DATE_ACQUIRED': '2013-04-16',\n",
       "  'DATUM': 'WGS84',\n",
       "  'EARTH_SUN_DISTANCE': 1.0037447,\n",
       "  'ELEVATION_SOURCE': 'GLS2000',\n",
       "  'ELLIPSOID': 'WGS84',\n",
       "  'FILE_DATE': 1421185515000,\n",
       "  'FILE_NAME_BAND_1': 'LC80440342013106LGN01_B1.TIF',\n",
       "  'FILE_NAME_BAND_10': 'LC80440342013106LGN01_B10.TIF',\n",
       "  'FILE_NAME_BAND_11': 'LC80440342013106LGN01_B11.TIF',\n",
       "  'FILE_NAME_BAND_2': 'LC80440342013106LGN01_B2.TIF',\n",
       "  'FILE_NAME_BAND_3': 'LC80440342013106LGN01_B3.TIF',\n",
       "  'FILE_NAME_BAND_4': 'LC80440342013106LGN01_B4.TIF',\n",
       "  'FILE_NAME_BAND_5': 'LC80440342013106LGN01_B5.TIF',\n",
       "  'FILE_NAME_BAND_6': 'LC80440342013106LGN01_B6.TIF',\n",
       "  'FILE_NAME_BAND_7': 'LC80440342013106LGN01_B7.TIF',\n",
       "  'FILE_NAME_BAND_8': 'LC80440342013106LGN01_B8.TIF',\n",
       "  'FILE_NAME_BAND_9': 'LC80440342013106LGN01_B9.TIF',\n",
       "  'FILE_NAME_BAND_QUALITY': 'LC80440342013106LGN01_BQA.TIF',\n",
       "  'GEOMETRIC_RMSE_MODEL': 6.077,\n",
       "  'GEOMETRIC_RMSE_MODEL_X': 4.225,\n",
       "  'GEOMETRIC_RMSE_MODEL_Y': 4.368,\n",
       "  'GEOMETRIC_RMSE_VERIFY': 3.607,\n",
       "  'GRID_CELL_SIZE_PANCHROMATIC': 15.0,\n",
       "  'GRID_CELL_SIZE_REFLECTIVE': 30.0,\n",
       "  'GRID_CELL_SIZE_THERMAL': 30.0,\n",
       "  'GROUND_CONTROL_POINTS_MODEL': 475,\n",
       "  'GROUND_CONTROL_POINTS_VERIFY': 168,\n",
       "  'GROUND_CONTROL_POINTS_VERSION': 2,\n",
       "  'IMAGE_QUALITY_OLI': 9,\n",
       "  'IMAGE_QUALITY_TIRS': 9,\n",
       "  'K1_CONSTANT_BAND_10': 774.89,\n",
       "  'K1_CONSTANT_BAND_11': 480.89,\n",
       "  'K2_CONSTANT_BAND_10': 1321.08,\n",
       "  'K2_CONSTANT_BAND_11': 1201.14,\n",
       "  'LANDSAT_SCENE_ID': 'LC80440342013106LGN01',\n",
       "  'MAP_PROJECTION': 'UTM',\n",
       "  'METADATA_FILE_NAME': 'LC80440342013106LGN01_MTL.txt',\n",
       "  'NADIR_OFFNADIR': 'NADIR',\n",
       "  'ORIENTATION': 'NORTH_UP',\n",
       "  'ORIGIN': 'Image courtesy of the U.S. Geological Survey',\n",
       "  'OUTPUT_FORMAT': 'GEOTIFF',\n",
       "  'PANCHROMATIC_LINES': 14761,\n",
       "  'PANCHROMATIC_SAMPLES': 15141,\n",
       "  'PROCESSING_SOFTWARE_VERSION': 'LPGS_2.4.0',\n",
       "  'QUANTIZE_CAL_MAX_BAND_1': 65535,\n",
       "  'QUANTIZE_CAL_MAX_BAND_10': 65535,\n",
       "  'QUANTIZE_CAL_MAX_BAND_11': 65535,\n",
       "  'QUANTIZE_CAL_MAX_BAND_2': 65535,\n",
       "  'QUANTIZE_CAL_MAX_BAND_3': 65535,\n",
       "  'QUANTIZE_CAL_MAX_BAND_4': 65535,\n",
       "  'QUANTIZE_CAL_MAX_BAND_5': 65535,\n",
       "  'QUANTIZE_CAL_MAX_BAND_6': 65535,\n",
       "  'QUANTIZE_CAL_MAX_BAND_7': 65535,\n",
       "  'QUANTIZE_CAL_MAX_BAND_8': 65535,\n",
       "  'QUANTIZE_CAL_MAX_BAND_9': 65535,\n",
       "  'QUANTIZE_CAL_MIN_BAND_1': 1,\n",
       "  'QUANTIZE_CAL_MIN_BAND_10': 1,\n",
       "  'QUANTIZE_CAL_MIN_BAND_11': 1,\n",
       "  'QUANTIZE_CAL_MIN_BAND_2': 1,\n",
       "  'QUANTIZE_CAL_MIN_BAND_3': 1,\n",
       "  'QUANTIZE_CAL_MIN_BAND_4': 1,\n",
       "  'QUANTIZE_CAL_MIN_BAND_5': 1,\n",
       "  'QUANTIZE_CAL_MIN_BAND_6': 1,\n",
       "  'QUANTIZE_CAL_MIN_BAND_7': 1,\n",
       "  'QUANTIZE_CAL_MIN_BAND_8': 1,\n",
       "  'QUANTIZE_CAL_MIN_BAND_9': 1,\n",
       "  'RADIANCE_ADD_BAND_1': -62.31123,\n",
       "  'RADIANCE_ADD_BAND_10': 0.1,\n",
       "  'RADIANCE_ADD_BAND_11': 0.1,\n",
       "  'RADIANCE_ADD_BAND_2': -63.80746,\n",
       "  'RADIANCE_ADD_BAND_3': -58.79803,\n",
       "  'RADIANCE_ADD_BAND_4': -49.58181,\n",
       "  'RADIANCE_ADD_BAND_5': -30.3416,\n",
       "  'RADIANCE_ADD_BAND_6': -7.54568,\n",
       "  'RADIANCE_ADD_BAND_7': -2.5433,\n",
       "  'RADIANCE_ADD_BAND_8': -56.11296,\n",
       "  'RADIANCE_ADD_BAND_9': -11.85818,\n",
       "  'RADIANCE_MAXIMUM_BAND_1': 754.4021,\n",
       "  'RADIANCE_MAXIMUM_BAND_10': 22.0018,\n",
       "  'RADIANCE_MAXIMUM_BAND_11': 22.0018,\n",
       "  'RADIANCE_MAXIMUM_BAND_2': 772.5169,\n",
       "  'RADIANCE_MAXIMUM_BAND_3': 711.86774,\n",
       "  'RADIANCE_MAXIMUM_BAND_4': 600.287,\n",
       "  'RADIANCE_MAXIMUM_BAND_5': 367.3457,\n",
       "  'RADIANCE_MAXIMUM_BAND_6': 91.35554,\n",
       "  'RADIANCE_MAXIMUM_BAND_7': 30.79171,\n",
       "  'RADIANCE_MAXIMUM_BAND_8': 679.3597,\n",
       "  'RADIANCE_MAXIMUM_BAND_9': 143.56703,\n",
       "  'RADIANCE_MINIMUM_BAND_1': -62.29877,\n",
       "  'RADIANCE_MINIMUM_BAND_10': 0.10033,\n",
       "  'RADIANCE_MINIMUM_BAND_11': 0.10033,\n",
       "  'RADIANCE_MINIMUM_BAND_2': -63.7947,\n",
       "  'RADIANCE_MINIMUM_BAND_3': -58.78627,\n",
       "  'RADIANCE_MINIMUM_BAND_4': -49.5719,\n",
       "  'RADIANCE_MINIMUM_BAND_5': -30.33553,\n",
       "  'RADIANCE_MINIMUM_BAND_6': -7.54417,\n",
       "  'RADIANCE_MINIMUM_BAND_7': -2.54279,\n",
       "  'RADIANCE_MINIMUM_BAND_8': -56.10174,\n",
       "  'RADIANCE_MINIMUM_BAND_9': -11.85581,\n",
       "  'RADIANCE_MULT_BAND_1': 0.012462,\n",
       "  'RADIANCE_MULT_BAND_10': 0.0003342,\n",
       "  'RADIANCE_MULT_BAND_11': 0.0003342,\n",
       "  'RADIANCE_MULT_BAND_2': 0.012761,\n",
       "  'RADIANCE_MULT_BAND_3': 0.01176,\n",
       "  'RADIANCE_MULT_BAND_4': 0.0099164,\n",
       "  'RADIANCE_MULT_BAND_5': 0.0060683,\n",
       "  'RADIANCE_MULT_BAND_6': 0.0015091,\n",
       "  'RADIANCE_MULT_BAND_7': 0.00050866,\n",
       "  'RADIANCE_MULT_BAND_8': 0.011223,\n",
       "  'RADIANCE_MULT_BAND_9': 0.0023716,\n",
       "  'REFLECTANCE_ADD_BAND_1': -0.1,\n",
       "  'REFLECTANCE_ADD_BAND_2': -0.1,\n",
       "  'REFLECTANCE_ADD_BAND_3': -0.1,\n",
       "  'REFLECTANCE_ADD_BAND_4': -0.1,\n",
       "  'REFLECTANCE_ADD_BAND_5': -0.1,\n",
       "  'REFLECTANCE_ADD_BAND_6': -0.1,\n",
       "  'REFLECTANCE_ADD_BAND_7': -0.1,\n",
       "  'REFLECTANCE_ADD_BAND_8': -0.1,\n",
       "  'REFLECTANCE_ADD_BAND_9': -0.1,\n",
       "  'REFLECTANCE_MAXIMUM_BAND_1': 1.2107,\n",
       "  'REFLECTANCE_MAXIMUM_BAND_2': 1.2107,\n",
       "  'REFLECTANCE_MAXIMUM_BAND_3': 1.2107,\n",
       "  'REFLECTANCE_MAXIMUM_BAND_4': 1.2107,\n",
       "  'REFLECTANCE_MAXIMUM_BAND_5': 1.2107,\n",
       "  'REFLECTANCE_MAXIMUM_BAND_6': 1.2107,\n",
       "  'REFLECTANCE_MAXIMUM_BAND_7': 1.2107,\n",
       "  'REFLECTANCE_MAXIMUM_BAND_8': 1.2107,\n",
       "  'REFLECTANCE_MAXIMUM_BAND_9': 1.2107,\n",
       "  'REFLECTANCE_MINIMUM_BAND_1': -0.09998,\n",
       "  'REFLECTANCE_MINIMUM_BAND_2': -0.09998,\n",
       "  'REFLECTANCE_MINIMUM_BAND_3': -0.09998,\n",
       "  'REFLECTANCE_MINIMUM_BAND_4': -0.09998,\n",
       "  'REFLECTANCE_MINIMUM_BAND_5': -0.09998,\n",
       "  'REFLECTANCE_MINIMUM_BAND_6': -0.09998,\n",
       "  'REFLECTANCE_MINIMUM_BAND_7': -0.09998,\n",
       "  'REFLECTANCE_MINIMUM_BAND_8': -0.09998,\n",
       "  'REFLECTANCE_MINIMUM_BAND_9': -0.09998,\n",
       "  'REFLECTANCE_MULT_BAND_1': 2e-05,\n",
       "  'REFLECTANCE_MULT_BAND_2': 2e-05,\n",
       "  'REFLECTANCE_MULT_BAND_3': 2e-05,\n",
       "  'REFLECTANCE_MULT_BAND_4': 2e-05,\n",
       "  'REFLECTANCE_MULT_BAND_5': 2e-05,\n",
       "  'REFLECTANCE_MULT_BAND_6': 2e-05,\n",
       "  'REFLECTANCE_MULT_BAND_7': 2e-05,\n",
       "  'REFLECTANCE_MULT_BAND_8': 2e-05,\n",
       "  'REFLECTANCE_MULT_BAND_9': 2e-05,\n",
       "  'REFLECTIVE_LINES': 7381,\n",
       "  'REFLECTIVE_SAMPLES': 7571,\n",
       "  'REQUEST_ID': '0601501132587_00002',\n",
       "  'RESAMPLING_OPTION': 'CUBIC_CONVOLUTION',\n",
       "  'RLUT_FILE_NAME': 'L8RLUT20130211_20431231v09.h5',\n",
       "  'ROLL_ANGLE': -0.001,\n",
       "  'SCENE_CENTER_TIME': '18:47:53.5577434Z',\n",
       "  'SENSOR_ID': 'OLI_TIRS',\n",
       "  'SPACECRAFT_ID': 'LANDSAT_8',\n",
       "  'STATION_ID': 'LGN',\n",
       "  'SUN_AZIMUTH': 140.98756,\n",
       "  'SUN_ELEVATION': 57.59147,\n",
       "  'TARGET_WRS_PATH': 44,\n",
       "  'TARGET_WRS_ROW': 34,\n",
       "  'THERMAL_LINES': 7381,\n",
       "  'THERMAL_SAMPLES': 7571,\n",
       "  'UTM_ZONE': 10,\n",
       "  'WRS_PATH': 44,\n",
       "  'WRS_ROW': 34,\n",
       "  'catalog_cloud_cover': 0,\n",
       "  'catalog_image_quality1': 9,\n",
       "  'google:cloud_storage_path': 'gs://earthengine-public/landsat/L8/044/034/LC80440342013106LGN01.tar.bz',\n",
       "  'google:cloud_storage_path_bytes': 699722582,\n",
       "  'google:cloud_storage_path_md5': '1d6a8024526c6425834d65ab771d1a1d',\n",
       "  'google:registration_count': 21,\n",
       "  'google:registration_offset_x': 292.5034,\n",
       "  'google:registration_offset_y': -301.9111,\n",
       "  'google:registration_ratio': 0.25925925,\n",
       "  'system:asset_size': 1105641883,\n",
       "  'system:footprint': {'coordinates': [[-122.9311059585722,\n",
       "     38.468856926479994],\n",
       "    [-123.38828670091274, 36.86340525197506],\n",
       "    [-121.3153812511248, 36.46540749276601],\n",
       "    [-120.81312146119429, 38.07027267387488],\n",
       "    [-122.9311059585722, 38.468856926479994]],\n",
       "   'type': 'LinearRing'},\n",
       "  'system:index': 'LC80440342013106LGN01',\n",
       "  'system:time_end': 1366138073557,\n",
       "  'system:time_start': 1366138073557},\n",
       " 'type': 'Image',\n",
       " 'version': 1487381858282000}"
      ]
     },
     "execution_count": 43,
     "metadata": {},
     "output_type": "execute_result"
    }
   ],
   "source": [
    "# Metadata\n",
    "scene.getInfo()"
   ]
  },
  {
   "cell_type": "code",
   "execution_count": null,
   "metadata": {
    "collapsed": true
   },
   "outputs": [],
   "source": []
  }
 ],
 "metadata": {
  "kernelspec": {
   "display_name": "Python 3",
   "language": "python",
   "name": "python3"
  },
  "language_info": {
   "codemirror_mode": {
    "name": "ipython",
    "version": 3
   },
   "file_extension": ".py",
   "mimetype": "text/x-python",
   "name": "python",
   "nbconvert_exporter": "python",
   "pygments_lexer": "ipython3",
   "version": "3.5.2"
  }
 },
 "nbformat": 4,
 "nbformat_minor": 0
}
